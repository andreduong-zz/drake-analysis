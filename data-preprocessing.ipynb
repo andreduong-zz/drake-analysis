{
 "cells": [
  {
   "cell_type": "markdown",
   "metadata": {},
   "source": [
    "# Load the data"
   ]
  },
  {
   "cell_type": "code",
   "execution_count": 1,
   "metadata": {
    "ExecuteTime": {
     "end_time": "2019-07-22T17:04:07.903060Z",
     "start_time": "2019-07-22T17:04:06.779339Z"
    }
   },
   "outputs": [],
   "source": [
    "# import necessary tools\n",
    "import pandas as pd\n",
    "import json\n",
    "import os\n",
    "import glob"
   ]
  },
  {
   "cell_type": "code",
   "execution_count": 2,
   "metadata": {
    "ExecuteTime": {
     "end_time": "2019-07-22T17:04:08.684026Z",
     "start_time": "2019-07-22T17:04:08.671909Z"
    }
   },
   "outputs": [],
   "source": [
    "# create file paths + dataframe\n",
    "path = './lyrics_files'\n",
    "lyrics_df = pd.DataFrame(columns=['name', 'album', 'year', 'lyrics'])"
   ]
  },
  {
   "cell_type": "code",
   "execution_count": 3,
   "metadata": {
    "ExecuteTime": {
     "end_time": "2019-07-22T17:04:14.781584Z",
     "start_time": "2019-07-22T17:04:13.001347Z"
    }
   },
   "outputs": [],
   "source": [
    "# add data to dataframe\n",
    "for filename in glob.glob(os.path.join(path, '*.json')): #only process .JSON files in folder.      \n",
    "    with open(filename, encoding='utf-8', mode='r') as json_file:\n",
    "        data = json.load(json_file)\n",
    "        data.keys()\n",
    "        songs = data.get('songs')\n",
    "        for x in songs:\n",
    "            lyrics_df = lyrics_df.append({\n",
    "                'name': x.get('title'),\n",
    "                'album': x.get('album'),\n",
    "                'year': x.get('year'),\n",
    "                'lyrics': x.get('lyrics')\n",
    "            }, ignore_index=True)"
   ]
  },
  {
   "cell_type": "markdown",
   "metadata": {},
   "source": [
    "# Data overview"
   ]
  },
  {
   "cell_type": "code",
   "execution_count": 4,
   "metadata": {
    "ExecuteTime": {
     "end_time": "2019-07-22T17:04:26.158820Z",
     "start_time": "2019-07-22T17:04:26.104584Z"
    }
   },
   "outputs": [
    {
     "data": {
      "text/html": [
       "<div>\n",
       "<style scoped>\n",
       "    .dataframe tbody tr th:only-of-type {\n",
       "        vertical-align: middle;\n",
       "    }\n",
       "\n",
       "    .dataframe tbody tr th {\n",
       "        vertical-align: top;\n",
       "    }\n",
       "\n",
       "    .dataframe thead th {\n",
       "        text-align: right;\n",
       "    }\n",
       "</style>\n",
       "<table border=\"1\" class=\"dataframe\">\n",
       "  <thead>\n",
       "    <tr style=\"text-align: right;\">\n",
       "      <th></th>\n",
       "      <th>name</th>\n",
       "      <th>album</th>\n",
       "      <th>year</th>\n",
       "      <th>lyrics</th>\n",
       "    </tr>\n",
       "  </thead>\n",
       "  <tbody>\n",
       "    <tr>\n",
       "      <th>0</th>\n",
       "      <td>Good Ones Go (Interlude)</td>\n",
       "      <td>Take Care</td>\n",
       "      <td>2011-11-15</td>\n",
       "      <td>[Intro]\\nOh yeah\\nOh yeah, oh yeah, oh\\nOh yea...</td>\n",
       "    </tr>\n",
       "    <tr>\n",
       "      <th>1</th>\n",
       "      <td>Keep the Family Close</td>\n",
       "      <td>Views</td>\n",
       "      <td>2016-04-29</td>\n",
       "      <td>[Intro]\\nIt's a little chilly out there\\nHow y...</td>\n",
       "    </tr>\n",
       "    <tr>\n",
       "      <th>2</th>\n",
       "      <td>Using Me</td>\n",
       "      <td>None</td>\n",
       "      <td>None</td>\n",
       "      <td>Yeah\\n6 shit\\n\\nBeen with so many women I can’...</td>\n",
       "    </tr>\n",
       "    <tr>\n",
       "      <th>3</th>\n",
       "      <td>Light Up</td>\n",
       "      <td>Thank Me Later</td>\n",
       "      <td>2010-06-15</td>\n",
       "      <td>[Verse 1: Drake]\\nUh, I've been up for four da...</td>\n",
       "    </tr>\n",
       "    <tr>\n",
       "      <th>4</th>\n",
       "      <td>Catch No Feelings</td>\n",
       "      <td>None</td>\n",
       "      <td>None</td>\n",
       "      <td>[Drake]\\nI told you from the jump, me and you ...</td>\n",
       "    </tr>\n",
       "    <tr>\n",
       "      <th>5</th>\n",
       "      <td>These Days</td>\n",
       "      <td>None</td>\n",
       "      <td>2016-03-29</td>\n",
       "      <td>[Verse 1]\\nI've been out walking\\nI don't do t...</td>\n",
       "    </tr>\n",
       "    <tr>\n",
       "      <th>6</th>\n",
       "      <td>Overdose On Life</td>\n",
       "      <td>None</td>\n",
       "      <td>2008-04-30</td>\n",
       "      <td>And I'm a leave on one more note\\nOne more mot...</td>\n",
       "    </tr>\n",
       "    <tr>\n",
       "      <th>7</th>\n",
       "      <td>Talk Up</td>\n",
       "      <td>Scorpion</td>\n",
       "      <td>2018-06-29</td>\n",
       "      <td>[Intro: Drake]\\nDJ Paul\\nTWhy\\nAyy, ayy\\nLot o...</td>\n",
       "    </tr>\n",
       "    <tr>\n",
       "      <th>8</th>\n",
       "      <td>Cannonball</td>\n",
       "      <td>Heartbreak Drake</td>\n",
       "      <td>None</td>\n",
       "      <td>[Chorus: Colin Munroe]\\nHow could I fly, but l...</td>\n",
       "    </tr>\n",
       "    <tr>\n",
       "      <th>9</th>\n",
       "      <td>Thank You Note to 40</td>\n",
       "      <td>None</td>\n",
       "      <td>2016-04-28</td>\n",
       "      <td>Before we do this I just wanna say thanks man....</td>\n",
       "    </tr>\n",
       "  </tbody>\n",
       "</table>\n",
       "</div>"
      ],
      "text/plain": [
       "                       name             album        year  \\\n",
       "0  Good Ones Go (Interlude)         Take Care  2011-11-15   \n",
       "1     Keep the Family Close             Views  2016-04-29   \n",
       "2                  Using Me              None        None   \n",
       "3                  Light Up    Thank Me Later  2010-06-15   \n",
       "4         Catch No Feelings              None        None   \n",
       "5                These Days              None  2016-03-29   \n",
       "6          Overdose On Life              None  2008-04-30   \n",
       "7                   Talk Up          Scorpion  2018-06-29   \n",
       "8                Cannonball  Heartbreak Drake        None   \n",
       "9      Thank You Note to 40              None  2016-04-28   \n",
       "\n",
       "                                              lyrics  \n",
       "0  [Intro]\\nOh yeah\\nOh yeah, oh yeah, oh\\nOh yea...  \n",
       "1  [Intro]\\nIt's a little chilly out there\\nHow y...  \n",
       "2  Yeah\\n6 shit\\n\\nBeen with so many women I can’...  \n",
       "3  [Verse 1: Drake]\\nUh, I've been up for four da...  \n",
       "4  [Drake]\\nI told you from the jump, me and you ...  \n",
       "5  [Verse 1]\\nI've been out walking\\nI don't do t...  \n",
       "6  And I'm a leave on one more note\\nOne more mot...  \n",
       "7  [Intro: Drake]\\nDJ Paul\\nTWhy\\nAyy, ayy\\nLot o...  \n",
       "8  [Chorus: Colin Munroe]\\nHow could I fly, but l...  \n",
       "9  Before we do this I just wanna say thanks man....  "
      ]
     },
     "execution_count": 4,
     "metadata": {},
     "output_type": "execute_result"
    }
   ],
   "source": [
    "lyrics_df.head(10)"
   ]
  },
  {
   "cell_type": "code",
   "execution_count": 6,
   "metadata": {
    "ExecuteTime": {
     "end_time": "2019-07-22T17:04:55.304994Z",
     "start_time": "2019-07-22T17:04:55.287207Z"
    }
   },
   "outputs": [
    {
     "name": "stdout",
     "output_type": "stream",
     "text": [
      "<class 'pandas.core.frame.DataFrame'>\n",
      "RangeIndex: 392 entries, 0 to 391\n",
      "Data columns (total 4 columns):\n",
      "name      392 non-null object\n",
      "album     241 non-null object\n",
      "year      280 non-null object\n",
      "lyrics    392 non-null object\n",
      "dtypes: object(4)\n",
      "memory usage: 12.3+ KB\n"
     ]
    }
   ],
   "source": [
    "lyrics_df.info()"
   ]
  },
  {
   "cell_type": "markdown",
   "metadata": {},
   "source": [
    "# Data cleaning"
   ]
  },
  {
   "cell_type": "markdown",
   "metadata": {},
   "source": [
    "We will only use officially released songs (songs that are in an album) for this project; therefore, we remove the rows that have null values."
   ]
  },
  {
   "cell_type": "code",
   "execution_count": 7,
   "metadata": {
    "ExecuteTime": {
     "end_time": "2019-07-22T17:07:23.870187Z",
     "start_time": "2019-07-22T17:07:23.853778Z"
    }
   },
   "outputs": [],
   "source": [
    "# remove all rows that have null values\n",
    "lyrics_df = lyrics_df.dropna(how='any', axis=0)"
   ]
  },
  {
   "cell_type": "code",
   "execution_count": 8,
   "metadata": {
    "ExecuteTime": {
     "end_time": "2019-07-22T17:08:01.622777Z",
     "start_time": "2019-07-22T17:08:01.601222Z"
    }
   },
   "outputs": [
    {
     "name": "stdout",
     "output_type": "stream",
     "text": [
      "<class 'pandas.core.frame.DataFrame'>\n",
      "Int64Index: 221 entries, 0 to 390\n",
      "Data columns (total 4 columns):\n",
      "name      221 non-null object\n",
      "album     221 non-null object\n",
      "year      221 non-null object\n",
      "lyrics    221 non-null object\n",
      "dtypes: object(4)\n",
      "memory usage: 8.6+ KB\n"
     ]
    }
   ],
   "source": [
    "lyrics_df.info()"
   ]
  },
  {
   "cell_type": "code",
   "execution_count": 9,
   "metadata": {
    "ExecuteTime": {
     "end_time": "2019-07-22T17:08:31.356132Z",
     "start_time": "2019-07-22T17:08:31.335215Z"
    },
    "scrolled": true
   },
   "outputs": [
    {
     "data": {
      "text/html": [
       "<div>\n",
       "<style scoped>\n",
       "    .dataframe tbody tr th:only-of-type {\n",
       "        vertical-align: middle;\n",
       "    }\n",
       "\n",
       "    .dataframe tbody tr th {\n",
       "        vertical-align: top;\n",
       "    }\n",
       "\n",
       "    .dataframe thead th {\n",
       "        text-align: right;\n",
       "    }\n",
       "</style>\n",
       "<table border=\"1\" class=\"dataframe\">\n",
       "  <thead>\n",
       "    <tr style=\"text-align: right;\">\n",
       "      <th></th>\n",
       "      <th>name</th>\n",
       "      <th>album</th>\n",
       "      <th>year</th>\n",
       "      <th>lyrics</th>\n",
       "    </tr>\n",
       "  </thead>\n",
       "  <tbody>\n",
       "    <tr>\n",
       "      <th>0</th>\n",
       "      <td>Good Ones Go (Interlude)</td>\n",
       "      <td>Take Care</td>\n",
       "      <td>2011-11-15</td>\n",
       "      <td>[Intro]\\nOh yeah\\nOh yeah, oh yeah, oh\\nOh yea...</td>\n",
       "    </tr>\n",
       "    <tr>\n",
       "      <th>1</th>\n",
       "      <td>Keep the Family Close</td>\n",
       "      <td>Views</td>\n",
       "      <td>2016-04-29</td>\n",
       "      <td>[Intro]\\nIt's a little chilly out there\\nHow y...</td>\n",
       "    </tr>\n",
       "    <tr>\n",
       "      <th>3</th>\n",
       "      <td>Light Up</td>\n",
       "      <td>Thank Me Later</td>\n",
       "      <td>2010-06-15</td>\n",
       "      <td>[Verse 1: Drake]\\nUh, I've been up for four da...</td>\n",
       "    </tr>\n",
       "    <tr>\n",
       "      <th>7</th>\n",
       "      <td>Talk Up</td>\n",
       "      <td>Scorpion</td>\n",
       "      <td>2018-06-29</td>\n",
       "      <td>[Intro: Drake]\\nDJ Paul\\nTWhy\\nAyy, ayy\\nLot o...</td>\n",
       "    </tr>\n",
       "    <tr>\n",
       "      <th>10</th>\n",
       "      <td>Juice</td>\n",
       "      <td>Born Successful</td>\n",
       "      <td>2009-12-11</td>\n",
       "      <td>[Produced by Boi-1da]\\n\\n[Intro]\\nBoi-1da... D...</td>\n",
       "    </tr>\n",
       "    <tr>\n",
       "      <th>13</th>\n",
       "      <td>Come Thru</td>\n",
       "      <td>Nothing Was the Same</td>\n",
       "      <td>2013-09-24</td>\n",
       "      <td>[Intro]\\nYeah\\nWe had the type of nights where...</td>\n",
       "    </tr>\n",
       "    <tr>\n",
       "      <th>14</th>\n",
       "      <td>Summer Games</td>\n",
       "      <td>Scorpion</td>\n",
       "      <td>2018-06-29</td>\n",
       "      <td>[Chorus]\\nI think you're changin' your mind\\nS...</td>\n",
       "    </tr>\n",
       "    <tr>\n",
       "      <th>15</th>\n",
       "      <td>9</td>\n",
       "      <td>Views</td>\n",
       "      <td>2016-04-29</td>\n",
       "      <td>[Intro]\\nYeah, for the dogs dem, you know\\nMan...</td>\n",
       "    </tr>\n",
       "    <tr>\n",
       "      <th>17</th>\n",
       "      <td>Glow</td>\n",
       "      <td>More Life</td>\n",
       "      <td>2017-03-18</td>\n",
       "      <td>[Chorus: Kanye West]\\nWatch out for me, I'm bo...</td>\n",
       "    </tr>\n",
       "    <tr>\n",
       "      <th>19</th>\n",
       "      <td>Hotline Bling</td>\n",
       "      <td>Views</td>\n",
       "      <td>2015-07-25</td>\n",
       "      <td>[Intro]\\nYou used to call me on my\\nYou used t...</td>\n",
       "    </tr>\n",
       "  </tbody>\n",
       "</table>\n",
       "</div>"
      ],
      "text/plain": [
       "                        name                 album        year  \\\n",
       "0   Good Ones Go (Interlude)             Take Care  2011-11-15   \n",
       "1      Keep the Family Close                 Views  2016-04-29   \n",
       "3                   Light Up        Thank Me Later  2010-06-15   \n",
       "7                    Talk Up              Scorpion  2018-06-29   \n",
       "10                     Juice       Born Successful  2009-12-11   \n",
       "13                 Come Thru  Nothing Was the Same  2013-09-24   \n",
       "14              Summer Games              Scorpion  2018-06-29   \n",
       "15                         9                 Views  2016-04-29   \n",
       "17                      Glow             More Life  2017-03-18   \n",
       "19             Hotline Bling                 Views  2015-07-25   \n",
       "\n",
       "                                               lyrics  \n",
       "0   [Intro]\\nOh yeah\\nOh yeah, oh yeah, oh\\nOh yea...  \n",
       "1   [Intro]\\nIt's a little chilly out there\\nHow y...  \n",
       "3   [Verse 1: Drake]\\nUh, I've been up for four da...  \n",
       "7   [Intro: Drake]\\nDJ Paul\\nTWhy\\nAyy, ayy\\nLot o...  \n",
       "10  [Produced by Boi-1da]\\n\\n[Intro]\\nBoi-1da... D...  \n",
       "13  [Intro]\\nYeah\\nWe had the type of nights where...  \n",
       "14  [Chorus]\\nI think you're changin' your mind\\nS...  \n",
       "15  [Intro]\\nYeah, for the dogs dem, you know\\nMan...  \n",
       "17  [Chorus: Kanye West]\\nWatch out for me, I'm bo...  \n",
       "19  [Intro]\\nYou used to call me on my\\nYou used t...  "
      ]
     },
     "execution_count": 9,
     "metadata": {},
     "output_type": "execute_result"
    }
   ],
   "source": [
    "lyrics_df.head(10)"
   ]
  },
  {
   "cell_type": "markdown",
   "metadata": {},
   "source": [
    "Let's make the 'year' column year only:"
   ]
  },
  {
   "cell_type": "code",
   "execution_count": 11,
   "metadata": {
    "ExecuteTime": {
     "end_time": "2019-07-22T17:11:51.354813Z",
     "start_time": "2019-07-22T17:11:51.286225Z"
    }
   },
   "outputs": [
    {
     "data": {
      "text/html": [
       "<div>\n",
       "<style scoped>\n",
       "    .dataframe tbody tr th:only-of-type {\n",
       "        vertical-align: middle;\n",
       "    }\n",
       "\n",
       "    .dataframe tbody tr th {\n",
       "        vertical-align: top;\n",
       "    }\n",
       "\n",
       "    .dataframe thead th {\n",
       "        text-align: right;\n",
       "    }\n",
       "</style>\n",
       "<table border=\"1\" class=\"dataframe\">\n",
       "  <thead>\n",
       "    <tr style=\"text-align: right;\">\n",
       "      <th></th>\n",
       "      <th>name</th>\n",
       "      <th>album</th>\n",
       "      <th>year</th>\n",
       "      <th>lyrics</th>\n",
       "    </tr>\n",
       "  </thead>\n",
       "  <tbody>\n",
       "    <tr>\n",
       "      <th>0</th>\n",
       "      <td>Good Ones Go (Interlude)</td>\n",
       "      <td>Take Care</td>\n",
       "      <td>2011</td>\n",
       "      <td>[Intro]\\nOh yeah\\nOh yeah, oh yeah, oh\\nOh yea...</td>\n",
       "    </tr>\n",
       "    <tr>\n",
       "      <th>1</th>\n",
       "      <td>Keep the Family Close</td>\n",
       "      <td>Views</td>\n",
       "      <td>2016</td>\n",
       "      <td>[Intro]\\nIt's a little chilly out there\\nHow y...</td>\n",
       "    </tr>\n",
       "    <tr>\n",
       "      <th>3</th>\n",
       "      <td>Light Up</td>\n",
       "      <td>Thank Me Later</td>\n",
       "      <td>2010</td>\n",
       "      <td>[Verse 1: Drake]\\nUh, I've been up for four da...</td>\n",
       "    </tr>\n",
       "    <tr>\n",
       "      <th>7</th>\n",
       "      <td>Talk Up</td>\n",
       "      <td>Scorpion</td>\n",
       "      <td>2018</td>\n",
       "      <td>[Intro: Drake]\\nDJ Paul\\nTWhy\\nAyy, ayy\\nLot o...</td>\n",
       "    </tr>\n",
       "    <tr>\n",
       "      <th>10</th>\n",
       "      <td>Juice</td>\n",
       "      <td>Born Successful</td>\n",
       "      <td>2009</td>\n",
       "      <td>[Produced by Boi-1da]\\n\\n[Intro]\\nBoi-1da... D...</td>\n",
       "    </tr>\n",
       "    <tr>\n",
       "      <th>13</th>\n",
       "      <td>Come Thru</td>\n",
       "      <td>Nothing Was the Same</td>\n",
       "      <td>2013</td>\n",
       "      <td>[Intro]\\nYeah\\nWe had the type of nights where...</td>\n",
       "    </tr>\n",
       "    <tr>\n",
       "      <th>14</th>\n",
       "      <td>Summer Games</td>\n",
       "      <td>Scorpion</td>\n",
       "      <td>2018</td>\n",
       "      <td>[Chorus]\\nI think you're changin' your mind\\nS...</td>\n",
       "    </tr>\n",
       "    <tr>\n",
       "      <th>15</th>\n",
       "      <td>9</td>\n",
       "      <td>Views</td>\n",
       "      <td>2016</td>\n",
       "      <td>[Intro]\\nYeah, for the dogs dem, you know\\nMan...</td>\n",
       "    </tr>\n",
       "    <tr>\n",
       "      <th>17</th>\n",
       "      <td>Glow</td>\n",
       "      <td>More Life</td>\n",
       "      <td>2017</td>\n",
       "      <td>[Chorus: Kanye West]\\nWatch out for me, I'm bo...</td>\n",
       "    </tr>\n",
       "    <tr>\n",
       "      <th>19</th>\n",
       "      <td>Hotline Bling</td>\n",
       "      <td>Views</td>\n",
       "      <td>2015</td>\n",
       "      <td>[Intro]\\nYou used to call me on my\\nYou used t...</td>\n",
       "    </tr>\n",
       "  </tbody>\n",
       "</table>\n",
       "</div>"
      ],
      "text/plain": [
       "                        name                 album  year  \\\n",
       "0   Good Ones Go (Interlude)             Take Care  2011   \n",
       "1      Keep the Family Close                 Views  2016   \n",
       "3                   Light Up        Thank Me Later  2010   \n",
       "7                    Talk Up              Scorpion  2018   \n",
       "10                     Juice       Born Successful  2009   \n",
       "13                 Come Thru  Nothing Was the Same  2013   \n",
       "14              Summer Games              Scorpion  2018   \n",
       "15                         9                 Views  2016   \n",
       "17                      Glow             More Life  2017   \n",
       "19             Hotline Bling                 Views  2015   \n",
       "\n",
       "                                               lyrics  \n",
       "0   [Intro]\\nOh yeah\\nOh yeah, oh yeah, oh\\nOh yea...  \n",
       "1   [Intro]\\nIt's a little chilly out there\\nHow y...  \n",
       "3   [Verse 1: Drake]\\nUh, I've been up for four da...  \n",
       "7   [Intro: Drake]\\nDJ Paul\\nTWhy\\nAyy, ayy\\nLot o...  \n",
       "10  [Produced by Boi-1da]\\n\\n[Intro]\\nBoi-1da... D...  \n",
       "13  [Intro]\\nYeah\\nWe had the type of nights where...  \n",
       "14  [Chorus]\\nI think you're changin' your mind\\nS...  \n",
       "15  [Intro]\\nYeah, for the dogs dem, you know\\nMan...  \n",
       "17  [Chorus: Kanye West]\\nWatch out for me, I'm bo...  \n",
       "19  [Intro]\\nYou used to call me on my\\nYou used t...  "
      ]
     },
     "execution_count": 11,
     "metadata": {},
     "output_type": "execute_result"
    }
   ],
   "source": [
    "lyrics_df['year'] = pd.to_datetime(lyrics_df['year']).dt.strftime('%Y')\n",
    "lyrics_df.head(10)"
   ]
  },
  {
   "cell_type": "markdown",
   "metadata": {},
   "source": [
    "Re-sort the data alphabetically regarding the album names:"
   ]
  },
  {
   "cell_type": "code",
   "execution_count": 12,
   "metadata": {
    "ExecuteTime": {
     "end_time": "2019-07-22T17:16:35.852871Z",
     "start_time": "2019-07-22T17:16:35.824778Z"
    }
   },
   "outputs": [
    {
     "data": {
      "text/html": [
       "<div>\n",
       "<style scoped>\n",
       "    .dataframe tbody tr th:only-of-type {\n",
       "        vertical-align: middle;\n",
       "    }\n",
       "\n",
       "    .dataframe tbody tr th {\n",
       "        vertical-align: top;\n",
       "    }\n",
       "\n",
       "    .dataframe thead th {\n",
       "        text-align: right;\n",
       "    }\n",
       "</style>\n",
       "<table border=\"1\" class=\"dataframe\">\n",
       "  <thead>\n",
       "    <tr style=\"text-align: right;\">\n",
       "      <th></th>\n",
       "      <th>name</th>\n",
       "      <th>album</th>\n",
       "      <th>year</th>\n",
       "      <th>lyrics</th>\n",
       "    </tr>\n",
       "  </thead>\n",
       "  <tbody>\n",
       "    <tr>\n",
       "      <th>155</th>\n",
       "      <td>Right to Left</td>\n",
       "      <td>Born Successful</td>\n",
       "      <td>2009</td>\n",
       "      <td>[Intro]\\n[?]\\n\\n[Chorus: Drake]\\nBlue green je...</td>\n",
       "    </tr>\n",
       "    <tr>\n",
       "      <th>200</th>\n",
       "      <td>Forever (Born Successful)</td>\n",
       "      <td>Born Successful</td>\n",
       "      <td>2009</td>\n",
       "      <td>[Chorus: Drake]\\nIt may not mean nothing to y'...</td>\n",
       "    </tr>\n",
       "    <tr>\n",
       "      <th>189</th>\n",
       "      <td>The Winner</td>\n",
       "      <td>Born Successful</td>\n",
       "      <td>2009</td>\n",
       "      <td>[Verse 1]\\nI’m performing tonight you know tha...</td>\n",
       "    </tr>\n",
       "    <tr>\n",
       "      <th>181</th>\n",
       "      <td>I Do This</td>\n",
       "      <td>Born Successful</td>\n",
       "      <td>2009</td>\n",
       "      <td>[Verse 1: Drake]\\nUh, shit's all good\\nThe dea...</td>\n",
       "    </tr>\n",
       "    <tr>\n",
       "      <th>120</th>\n",
       "      <td>Fallen</td>\n",
       "      <td>Born Successful</td>\n",
       "      <td>2009</td>\n",
       "      <td>[Intro: Drake]\\nYeah, it's Drake, KC\\n\\n[Verse...</td>\n",
       "    </tr>\n",
       "    <tr>\n",
       "      <th>328</th>\n",
       "      <td>Do It Now</td>\n",
       "      <td>Born Successful</td>\n",
       "      <td>2009</td>\n",
       "      <td>[Intro]\\nUh, yeah, alright\\nUh, well alright\\n...</td>\n",
       "    </tr>\n",
       "    <tr>\n",
       "      <th>286</th>\n",
       "      <td>The Search</td>\n",
       "      <td>Born Successful</td>\n",
       "      <td>2009</td>\n",
       "      <td>(Saukrates intro)\\nThey say we killin' 'em all...</td>\n",
       "    </tr>\n",
       "    <tr>\n",
       "      <th>10</th>\n",
       "      <td>Juice</td>\n",
       "      <td>Born Successful</td>\n",
       "      <td>2009</td>\n",
       "      <td>[Produced by Boi-1da]\\n\\n[Intro]\\nBoi-1da... D...</td>\n",
       "    </tr>\n",
       "    <tr>\n",
       "      <th>203</th>\n",
       "      <td>Man of the Year</td>\n",
       "      <td>Comeback Season</td>\n",
       "      <td>2007</td>\n",
       "      <td>[Verse 1: Drake]\\nDamn, I done walked in here\\...</td>\n",
       "    </tr>\n",
       "    <tr>\n",
       "      <th>168</th>\n",
       "      <td>Give Ya</td>\n",
       "      <td>Comeback Season</td>\n",
       "      <td>2007</td>\n",
       "      <td>[Verse 1: Drake]\\nCheck, look\\nAnd I ain't try...</td>\n",
       "    </tr>\n",
       "  </tbody>\n",
       "</table>\n",
       "</div>"
      ],
      "text/plain": [
       "                          name            album  year  \\\n",
       "155              Right to Left  Born Successful  2009   \n",
       "200  Forever (Born Successful)  Born Successful  2009   \n",
       "189                 The Winner  Born Successful  2009   \n",
       "181                  I Do This  Born Successful  2009   \n",
       "120                     Fallen  Born Successful  2009   \n",
       "328                  Do It Now  Born Successful  2009   \n",
       "286                 The Search  Born Successful  2009   \n",
       "10                       Juice  Born Successful  2009   \n",
       "203            Man of the Year  Comeback Season  2007   \n",
       "168                    Give Ya  Comeback Season  2007   \n",
       "\n",
       "                                                lyrics  \n",
       "155  [Intro]\\n[?]\\n\\n[Chorus: Drake]\\nBlue green je...  \n",
       "200  [Chorus: Drake]\\nIt may not mean nothing to y'...  \n",
       "189  [Verse 1]\\nI’m performing tonight you know tha...  \n",
       "181  [Verse 1: Drake]\\nUh, shit's all good\\nThe dea...  \n",
       "120  [Intro: Drake]\\nYeah, it's Drake, KC\\n\\n[Verse...  \n",
       "328  [Intro]\\nUh, yeah, alright\\nUh, well alright\\n...  \n",
       "286  (Saukrates intro)\\nThey say we killin' 'em all...  \n",
       "10   [Produced by Boi-1da]\\n\\n[Intro]\\nBoi-1da... D...  \n",
       "203  [Verse 1: Drake]\\nDamn, I done walked in here\\...  \n",
       "168  [Verse 1: Drake]\\nCheck, look\\nAnd I ain't try...  "
      ]
     },
     "execution_count": 12,
     "metadata": {},
     "output_type": "execute_result"
    }
   ],
   "source": [
    "lyrics_df = lyrics_df.sort_values('album')\n",
    "lyrics_df.head(10)"
   ]
  },
  {
   "cell_type": "markdown",
   "metadata": {},
   "source": [
    "Finally, we reset the index:"
   ]
  },
  {
   "cell_type": "code",
   "execution_count": 13,
   "metadata": {
    "ExecuteTime": {
     "end_time": "2019-07-22T17:17:25.617612Z",
     "start_time": "2019-07-22T17:17:25.594728Z"
    }
   },
   "outputs": [
    {
     "data": {
      "text/html": [
       "<div>\n",
       "<style scoped>\n",
       "    .dataframe tbody tr th:only-of-type {\n",
       "        vertical-align: middle;\n",
       "    }\n",
       "\n",
       "    .dataframe tbody tr th {\n",
       "        vertical-align: top;\n",
       "    }\n",
       "\n",
       "    .dataframe thead th {\n",
       "        text-align: right;\n",
       "    }\n",
       "</style>\n",
       "<table border=\"1\" class=\"dataframe\">\n",
       "  <thead>\n",
       "    <tr style=\"text-align: right;\">\n",
       "      <th></th>\n",
       "      <th>name</th>\n",
       "      <th>album</th>\n",
       "      <th>year</th>\n",
       "      <th>lyrics</th>\n",
       "    </tr>\n",
       "  </thead>\n",
       "  <tbody>\n",
       "    <tr>\n",
       "      <th>0</th>\n",
       "      <td>Right to Left</td>\n",
       "      <td>Born Successful</td>\n",
       "      <td>2009</td>\n",
       "      <td>[Intro]\\n[?]\\n\\n[Chorus: Drake]\\nBlue green je...</td>\n",
       "    </tr>\n",
       "    <tr>\n",
       "      <th>1</th>\n",
       "      <td>Forever (Born Successful)</td>\n",
       "      <td>Born Successful</td>\n",
       "      <td>2009</td>\n",
       "      <td>[Chorus: Drake]\\nIt may not mean nothing to y'...</td>\n",
       "    </tr>\n",
       "    <tr>\n",
       "      <th>2</th>\n",
       "      <td>The Winner</td>\n",
       "      <td>Born Successful</td>\n",
       "      <td>2009</td>\n",
       "      <td>[Verse 1]\\nI’m performing tonight you know tha...</td>\n",
       "    </tr>\n",
       "    <tr>\n",
       "      <th>3</th>\n",
       "      <td>I Do This</td>\n",
       "      <td>Born Successful</td>\n",
       "      <td>2009</td>\n",
       "      <td>[Verse 1: Drake]\\nUh, shit's all good\\nThe dea...</td>\n",
       "    </tr>\n",
       "    <tr>\n",
       "      <th>4</th>\n",
       "      <td>Fallen</td>\n",
       "      <td>Born Successful</td>\n",
       "      <td>2009</td>\n",
       "      <td>[Intro: Drake]\\nYeah, it's Drake, KC\\n\\n[Verse...</td>\n",
       "    </tr>\n",
       "    <tr>\n",
       "      <th>5</th>\n",
       "      <td>Do It Now</td>\n",
       "      <td>Born Successful</td>\n",
       "      <td>2009</td>\n",
       "      <td>[Intro]\\nUh, yeah, alright\\nUh, well alright\\n...</td>\n",
       "    </tr>\n",
       "    <tr>\n",
       "      <th>6</th>\n",
       "      <td>The Search</td>\n",
       "      <td>Born Successful</td>\n",
       "      <td>2009</td>\n",
       "      <td>(Saukrates intro)\\nThey say we killin' 'em all...</td>\n",
       "    </tr>\n",
       "    <tr>\n",
       "      <th>7</th>\n",
       "      <td>Juice</td>\n",
       "      <td>Born Successful</td>\n",
       "      <td>2009</td>\n",
       "      <td>[Produced by Boi-1da]\\n\\n[Intro]\\nBoi-1da... D...</td>\n",
       "    </tr>\n",
       "    <tr>\n",
       "      <th>8</th>\n",
       "      <td>Man of the Year</td>\n",
       "      <td>Comeback Season</td>\n",
       "      <td>2007</td>\n",
       "      <td>[Verse 1: Drake]\\nDamn, I done walked in here\\...</td>\n",
       "    </tr>\n",
       "    <tr>\n",
       "      <th>9</th>\n",
       "      <td>Give Ya</td>\n",
       "      <td>Comeback Season</td>\n",
       "      <td>2007</td>\n",
       "      <td>[Verse 1: Drake]\\nCheck, look\\nAnd I ain't try...</td>\n",
       "    </tr>\n",
       "  </tbody>\n",
       "</table>\n",
       "</div>"
      ],
      "text/plain": [
       "                        name            album  year  \\\n",
       "0              Right to Left  Born Successful  2009   \n",
       "1  Forever (Born Successful)  Born Successful  2009   \n",
       "2                 The Winner  Born Successful  2009   \n",
       "3                  I Do This  Born Successful  2009   \n",
       "4                     Fallen  Born Successful  2009   \n",
       "5                  Do It Now  Born Successful  2009   \n",
       "6                 The Search  Born Successful  2009   \n",
       "7                      Juice  Born Successful  2009   \n",
       "8            Man of the Year  Comeback Season  2007   \n",
       "9                    Give Ya  Comeback Season  2007   \n",
       "\n",
       "                                              lyrics  \n",
       "0  [Intro]\\n[?]\\n\\n[Chorus: Drake]\\nBlue green je...  \n",
       "1  [Chorus: Drake]\\nIt may not mean nothing to y'...  \n",
       "2  [Verse 1]\\nI’m performing tonight you know tha...  \n",
       "3  [Verse 1: Drake]\\nUh, shit's all good\\nThe dea...  \n",
       "4  [Intro: Drake]\\nYeah, it's Drake, KC\\n\\n[Verse...  \n",
       "5  [Intro]\\nUh, yeah, alright\\nUh, well alright\\n...  \n",
       "6  (Saukrates intro)\\nThey say we killin' 'em all...  \n",
       "7  [Produced by Boi-1da]\\n\\n[Intro]\\nBoi-1da... D...  \n",
       "8  [Verse 1: Drake]\\nDamn, I done walked in here\\...  \n",
       "9  [Verse 1: Drake]\\nCheck, look\\nAnd I ain't try...  "
      ]
     },
     "execution_count": 13,
     "metadata": {},
     "output_type": "execute_result"
    }
   ],
   "source": [
    "lyrics_df = lyrics_df.reset_index(drop=True)\n",
    "lyrics_df.head(10)"
   ]
  },
  {
   "cell_type": "markdown",
   "metadata": {},
   "source": [
    "Looks good! Now we save the data as a csv file and move on."
   ]
  },
  {
   "cell_type": "code",
   "execution_count": 15,
   "metadata": {
    "ExecuteTime": {
     "end_time": "2019-07-22T17:18:56.328457Z",
     "start_time": "2019-07-22T17:18:56.288547Z"
    }
   },
   "outputs": [],
   "source": [
    "# add data to csv file\n",
    "lyrics_path = \"./lyrics.csv\"\n",
    "lyrics_df.to_csv(lyrics_path, index=False)"
   ]
  }
 ],
 "metadata": {
  "kernelspec": {
   "display_name": "Python 3",
   "language": "python",
   "name": "python3"
  },
  "language_info": {
   "codemirror_mode": {
    "name": "ipython",
    "version": 3
   },
   "file_extension": ".py",
   "mimetype": "text/x-python",
   "name": "python",
   "nbconvert_exporter": "python",
   "pygments_lexer": "ipython3",
   "version": "3.7.3"
  },
  "toc": {
   "base_numbering": 1,
   "nav_menu": {},
   "number_sections": true,
   "sideBar": true,
   "skip_h1_title": false,
   "title_cell": "Table of Contents",
   "title_sidebar": "Contents",
   "toc_cell": false,
   "toc_position": {},
   "toc_section_display": true,
   "toc_window_display": false
  }
 },
 "nbformat": 4,
 "nbformat_minor": 2
}
